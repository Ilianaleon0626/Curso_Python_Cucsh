{
  "nbformat": 4,
  "nbformat_minor": 0,
  "metadata": {
    "colab": {
      "provenance": [],
      "authorship_tag": "ABX9TyN7Ibgm1JUEC4EOIq4jQIqT",
      "include_colab_link": true
    },
    "kernelspec": {
      "name": "python3",
      "display_name": "Python 3"
    },
    "language_info": {
      "name": "python"
    }
  },
  "cells": [
    {
      "cell_type": "markdown",
      "metadata": {
        "id": "view-in-github",
        "colab_type": "text"
      },
      "source": [
        "<a href=\"https://colab.research.google.com/github/Ilianaleon0626/Curso_Python_Cucsh/blob/main/Proyecto_2.ipynb\" target=\"_parent\"><img src=\"https://colab.research.google.com/assets/colab-badge.svg\" alt=\"Open In Colab\"/></a>"
      ]
    },
    {
      "cell_type": "code",
      "execution_count": null,
      "metadata": {
        "id": "xY7iCJOcx_Rb"
      },
      "outputs": [],
      "source": []
    },
    {
      "cell_type": "markdown",
      "source": [
        "Proyecto 2. Convertidor de divisas, 21/10/2025, Análisis y visualización de datos con Python en la nube, Iliana Guadalupe León González, CUCEA"
      ],
      "metadata": {
        "id": "xNRWuc5hyODm"
      }
    },
    {
      "cell_type": "code",
      "source": [
        "import requests\n",
        "\n",
        "print(\"Es un convertidor de divisas.\")\n",
        "print(\"Introduce el código de tres letras de la divisa inicial (por ejemplo, MXN),\")\n",
        "print(\"código de divisa destino (por ejemplo, USD) y la cantidad que pretendes convertir.\")\n",
        "print(\"El resultado será la cantidad en la divisa destino.\")\n",
        "print(\"Si quieres salir de programa, solo pulsa la tecla Enter al momento de especificar la divisa.\")\n",
        "print(\"\\n¡Suerte en tus conversiones!\\n\")\n",
        "\n",
        "while True:\n",
        "    base_currency = input(\"Divisa inicial: \").lower()\n",
        "    if base_currency == \"\":\n",
        "        print(\"¡Adios!\")\n",
        "        break\n",
        "\n",
        "    url = f\"https://www.floatrates.com/daily/{base_currency}.json\"\n",
        "    try:\n",
        "        response = requests.get(url)\n",
        "        data = response.json()\n",
        "    except:\n",
        "        print(\"Divisa no encontrada\")\n",
        "        continue\n",
        "\n",
        "    if not data:\n",
        "        print(\"Divisa no encontrada\")\n",
        "        continue\n",
        "    else:\n",
        "        print(\"Divisa se encontro en la base de datos, podemos trabajar\")\n",
        "\n",
        "    while True:\n",
        "        target_currency = input(\"Divisa destino: \").lower()\n",
        "        if target_currency == \"\":\n",
        "            print(\"¡Adios!\")\n",
        "            break\n",
        "\n",
        "        if target_currency not in data:\n",
        "            print(\"Divisa no encontrada\")\n",
        "            continue\n",
        "\n",
        "        amount_str = input(f\"Cantidad de dinero por convertir ({base_currency.upper()}): \")\n",
        "        try:\n",
        "            amount = float(amount_str)\n",
        "        except ValueError:\n",
        "            print(\"Cantidad introducida no es valida\")\n",
        "            continue\n",
        "\n",
        "        rate = data[target_currency][\"rate\"]\n",
        "        result = round(amount * rate, 2)\n",
        "        print(f\"Resultado de conversión: {result} {target_currency.upper()}.\\n\")\n"
      ],
      "metadata": {
        "colab": {
          "base_uri": "https://localhost:8080/"
        },
        "id": "zP6fENWD0VsC",
        "outputId": "360aacc3-4e15-4b90-ff86-4d3e0d9b93d5"
      },
      "execution_count": null,
      "outputs": [
        {
          "output_type": "stream",
          "name": "stdout",
          "text": [
            "Es un convertidor de divisas.\n",
            "Introduce el código de tres letras de la divisa inicial (por ejemplo, MXN),\n",
            "código de divisa destino (por ejemplo, USD) y la cantidad que pretendes convertir.\n",
            "El resultado será la cantidad en la divisa destino.\n",
            "Si quieres salir de programa, solo pulsa la tecla Enter al momento de especificar la divisa.\n",
            "\n",
            "¡Suerte en tus conversiones!\n",
            "\n",
            "Divisa inicial: MXN\n",
            "Divisa se encontro en la base de datos, podemos trabajar\n",
            "Divisa destino: USD\n",
            "Cantidad de dinero por convertir (MXN): 500\n",
            "Resultado de conversión: 27.12 USD.\n",
            "\n"
          ]
        }
      ]
    }
  ]
}