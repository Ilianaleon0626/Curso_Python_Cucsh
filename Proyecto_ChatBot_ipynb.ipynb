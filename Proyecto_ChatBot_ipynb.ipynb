{
  "nbformat": 4,
  "nbformat_minor": 0,
  "metadata": {
    "colab": {
      "provenance": [],
      "authorship_tag": "ABX9TyPpB+LF67kHGIYrzMupaPW1",
      "include_colab_link": true
    },
    "kernelspec": {
      "name": "python3",
      "display_name": "Python 3"
    },
    "language_info": {
      "name": "python"
    }
  },
  "cells": [
    {
      "cell_type": "markdown",
      "metadata": {
        "id": "view-in-github",
        "colab_type": "text"
      },
      "source": [
        "<a href=\"https://colab.research.google.com/github/Ilianaleon0626/Curso_Python_Cucsh/blob/main/Proyecto_ChatBot_ipynb.ipynb\" target=\"_parent\"><img src=\"https://colab.research.google.com/assets/colab-badge.svg\" alt=\"Open In Colab\"/></a>"
      ]
    },
    {
      "cell_type": "code",
      "execution_count": null,
      "metadata": {
        "id": "qf2tWiGXRSmK"
      },
      "outputs": [],
      "source": []
    },
    {
      "cell_type": "markdown",
      "source": [
        "Proyecto ChatBot, 20/10/2025, Análisis y visualización de datos con Python en la nube, Iliana Guadalupe León González, CUCEA"
      ],
      "metadata": {
        "id": "nJHzH10iSQCG"
      }
    },
    {
      "cell_type": "code",
      "source": [
        "nombre = input(\"Hola, ¿cómo te llamas? \")\n",
        "print(f\"¡Mucho gusto, {nombre}! Bienvenida al ChatBot 😊\")\n"
      ],
      "metadata": {
        "colab": {
          "base_uri": "https://localhost:8080/"
        },
        "id": "VCIiNmjHvmXf",
        "outputId": "c538bbe5-8e04-40a2-fde5-ee5c208d32dc"
      },
      "execution_count": 1,
      "outputs": [
        {
          "output_type": "stream",
          "name": "stdout",
          "text": [
            "Hola, ¿cómo te llamas? Iliana\n",
            "¡Mucho gusto, Iliana! Bienvenida al ChatBot 😊\n"
          ]
        }
      ]
    },
    {
      "cell_type": "code",
      "source": [
        "print(\"\\nVamos a jugar: trata de adivinar la edad de Harry Potter en el primer libro 📚\")\n",
        "\n",
        "respuesta = input(\"¿Cuántos años crees que tenía? \")\n",
        "\n",
        "if respuesta.isdigit():\n",
        "    edad = int(respuesta)\n",
        "    if edad == 11:\n",
        "        print(\"¡Correcto! Harry tenía 11 años cuando recibió su carta de Hogwarts 🧙‍♂️\")\n",
        "    elif edad < 11:\n",
        "        print(\"Demasiado joven... ¡Intenta otra vez!\")\n",
        "    else:\n",
        "        print(\"Un poco mayor... ¡Intenta otra vez!\")\n",
        "else:\n",
        "    print(\"Por favor, ingresa un número válido.\")\n"
      ],
      "metadata": {
        "colab": {
          "base_uri": "https://localhost:8080/"
        },
        "id": "fzAHuMoRvzzE",
        "outputId": "f297a4ad-47ba-420a-c0fe-d3a06f3fa461"
      },
      "execution_count": 2,
      "outputs": [
        {
          "output_type": "stream",
          "name": "stdout",
          "text": [
            "\n",
            "Vamos a jugar: trata de adivinar la edad de Harry Potter en el primer libro 📚\n",
            "¿Cuántos años crees que tenía? 11\n",
            "¡Correcto! Harry tenía 11 años cuando recibió su carta de Hogwarts 🧙‍♂️\n"
          ]
        }
      ]
    },
    {
      "cell_type": "code",
      "source": [
        "print(\"\\nPregunta de opción múltiple:\")\n",
        "print(\"¿Cuál de estos personajes pertenece al universo de Star Wars?\")\n",
        "print(\"a) Frodo\\nb) Luke Skywalker\\nc) Hermione\\n\")\n",
        "\n",
        "opcion = input(\"Tu respuesta: \").lower()\n",
        "\n",
        "if opcion == \"b\":\n",
        "    print(\"¡Correcto! Luke Skywalker es un Jedi legendario 🌌\")\n",
        "else:\n",
        "    print(\"Incorrecto. La respuesta correcta era b) Luke Skywalker.\")\n"
      ],
      "metadata": {
        "colab": {
          "base_uri": "https://localhost:8080/"
        },
        "id": "WsNKFKM_v_EE",
        "outputId": "42838a21-cc6b-4645-8e4b-4419f89cd9c7"
      },
      "execution_count": 3,
      "outputs": [
        {
          "output_type": "stream",
          "name": "stdout",
          "text": [
            "\n",
            "Pregunta de opción múltiple:\n",
            "¿Cuál de estos personajes pertenece al universo de Star Wars?\n",
            "a) Frodo\n",
            "b) Luke Skywalker\n",
            "c) Hermione\n",
            "\n",
            "Tu respuesta: Luke Skywalker\n",
            "Incorrecto. La respuesta correcta era b) Luke Skywalker.\n"
          ]
        }
      ]
    },
    {
      "cell_type": "code",
      "source": [
        "print(f\"\\nGracias por participar, {nombre}. ¡Hasta pronto! 👋\")\n"
      ],
      "metadata": {
        "colab": {
          "base_uri": "https://localhost:8080/"
        },
        "id": "B1A86oeXwKku",
        "outputId": "98b53a2e-cb1f-4b5a-8778-f53126afec0c"
      },
      "execution_count": 4,
      "outputs": [
        {
          "output_type": "stream",
          "name": "stdout",
          "text": [
            "\n",
            "Gracias por participar, Iliana. ¡Hasta pronto! 👋\n"
          ]
        }
      ]
    }
  ]
}