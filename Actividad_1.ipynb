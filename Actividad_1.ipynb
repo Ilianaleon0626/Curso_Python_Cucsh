{
  "nbformat": 4,
  "nbformat_minor": 0,
  "metadata": {
    "colab": {
      "provenance": [],
      "authorship_tag": "ABX9TyORbDlLfF2i3CGBUYnSRRd9",
      "include_colab_link": true
    },
    "kernelspec": {
      "name": "python3",
      "display_name": "Python 3"
    },
    "language_info": {
      "name": "python"
    }
  },
  "cells": [
    {
      "cell_type": "markdown",
      "metadata": {
        "id": "view-in-github",
        "colab_type": "text"
      },
      "source": [
        "<a href=\"https://colab.research.google.com/github/Ilianaleon0626/Curso_Python_Cucsh/blob/main/Actividad_1.ipynb\" target=\"_parent\"><img src=\"https://colab.research.google.com/assets/colab-badge.svg\" alt=\"Open In Colab\"/></a>"
      ]
    },
    {
      "cell_type": "code",
      "execution_count": null,
      "metadata": {
        "id": "9xmyFS7DC_CW"
      },
      "outputs": [],
      "source": []
    },
    {
      "cell_type": "markdown",
      "source": [
        "# Actividad 1: Introducción a Google Colab y Python\n",
        "**Fecha:** 27 de octubre de 2025  \n",
        "**Curso:** Análisis y visualización de datos con Python en la nube\n",
        "**Nombre del alumno:** Iliana Guadalupe León González\n",
        "**Campus de adscripción:** CUCEA\n",
        "\n",
        "> Esta actividad tiene como objetivo familiarizarse con el entorno de ejecución de Google Colab.\n"
      ],
      "metadata": {
        "id": "6C4UMRKqlh66"
      }
    },
    {
      "cell_type": "code",
      "source": [
        "from datetime import datetime\n",
        "\n",
        "# Mostrar fecha y hora del servidor\n",
        "print(\"Fecha y hora del servidor:\", datetime.now())\n"
      ],
      "metadata": {
        "colab": {
          "base_uri": "https://localhost:8080/"
        },
        "id": "HtdfWO-ql_t4",
        "outputId": "09fbb0ad-98e9-46a6-a57c-3574bfbf9bec"
      },
      "execution_count": 1,
      "outputs": [
        {
          "output_type": "stream",
          "name": "stdout",
          "text": [
            "Fecha y hora del servidor: 2025-10-28 02:14:10.538262\n"
          ]
        }
      ]
    },
    {
      "cell_type": "markdown",
      "source": [
        "## Opinión sobre el potencial de uso de Python\n",
        "\n",
        "Python es una herramienta poderosa y versátil que puede facilitar el trabajo académico y la investigación.  \n",
        "Su sintaxis clara permite enfocarse en la lógica del problema sin complicaciones técnicas.  \n",
        "Además, cuenta con bibliotecas especializadas para análisis de datos, visualización y automatización de tareas.  \n",
        "Esto lo convierte en un aliado ideal para estudiantes, docentes e investigadores.  \n",
        "En mi caso, considero que Python puede ayudarme a organizar información y realizar análisis más profundos.  \n",
        "**¡Es una habilidad que vale la pena dominar!**\n"
      ],
      "metadata": {
        "id": "ViX-n8bMmPCU"
      }
    },
    {
      "cell_type": "code",
      "source": [
        "import sys\n",
        "import platform\n",
        "\n",
        "print(\"Versión de Python:\", sys.version)\n",
        "print(\"Sistema operativo:\", platform.system())\n",
        "print(\"Arquitectura:\", platform.architecture())\n",
        "print(\"Procesador:\", platform.processor())\n",
        "print(\"Nombre del nodo:\", platform.node())\n"
      ],
      "metadata": {
        "colab": {
          "base_uri": "https://localhost:8080/"
        },
        "id": "unnb8XwFmWNc",
        "outputId": "6ccf129e-718b-4a11-8533-68f29572efea"
      },
      "execution_count": 2,
      "outputs": [
        {
          "output_type": "stream",
          "name": "stdout",
          "text": [
            "Versión de Python: 3.12.12 (main, Oct 10 2025, 08:52:57) [GCC 11.4.0]\n",
            "Sistema operativo: Linux\n",
            "Arquitectura: ('64bit', 'ELF')\n",
            "Procesador: x86_64\n",
            "Nombre del nodo: f78ad81f4c73\n"
          ]
        }
      ]
    }
  ]
}