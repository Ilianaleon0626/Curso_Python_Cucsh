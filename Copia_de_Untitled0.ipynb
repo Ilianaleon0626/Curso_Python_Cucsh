{
  "nbformat": 4,
  "nbformat_minor": 0,
  "metadata": {
    "colab": {
      "provenance": [],
      "authorship_tag": "ABX9TyMOkmyIxuxzjQA48ph/bWoJ",
      "include_colab_link": true
    },
    "kernelspec": {
      "name": "python3",
      "display_name": "Python 3"
    },
    "language_info": {
      "name": "python"
    }
  },
  "cells": [
    {
      "cell_type": "markdown",
      "metadata": {
        "id": "view-in-github",
        "colab_type": "text"
      },
      "source": [
        "<a href=\"https://colab.research.google.com/github/Ilianaleon0626/Curso_Python_Cucsh/blob/main/Copia_de_Untitled0.ipynb\" target=\"_parent\"><img src=\"https://colab.research.google.com/assets/colab-badge.svg\" alt=\"Open In Colab\"/></a>"
      ]
    },
    {
      "cell_type": "code",
      "source": [],
      "metadata": {
        "id": "1iAJ9Um2IpRx"
      },
      "execution_count": 5,
      "outputs": []
    },
    {
      "cell_type": "markdown",
      "source": [
        "Nombre del curso: **FINANZAS PÚBLICAS Y FISCALIZACIÓN**\n",
        "\n",
        "**Actividad 1.**\n",
        "Iliana León.\n"
      ],
      "metadata": {
        "id": "6-R8KH6HIq_J"
      }
    },
    {
      "cell_type": "code",
      "source": [
        "import datetime\n",
        "# Hora (Tiempo universal coordinado, UTC) y fecha\n",
        "now = datetime.datetime.now()\n",
        "print(f\"Fecha y hora (UTC): {now.strftime('%Y-%m-%d %H:%M')}\")"
      ],
      "metadata": {
        "colab": {
          "base_uri": "https://localhost:8080/"
        },
        "id": "RP95KwmfKkv6",
        "outputId": "1411f314-aca1-4aba-b94b-0f1f43febb98"
      },
      "execution_count": 6,
      "outputs": [
        {
          "output_type": "stream",
          "name": "stdout",
          "text": [
            "Fecha y hora (UTC): 2025-09-11 01:10\n"
          ]
        }
      ]
    },
    {
      "cell_type": "markdown",
      "source": [
        "¿cual es su opinión"
      ],
      "metadata": {
        "id": "OvXJ2QoSRfHY"
      }
    },
    {
      "cell_type": "code",
      "source": [
        "import platform\n",
        "\n",
        "# Parámetros del entorno de ejecución\n",
        "print(\"\\nParámetros del entorno de ejecución:\")\n",
        "print(f\"Sistema Operativo: {platform.system()}\")\n",
        "print(f\"Nombre del nodo: {platform.node()}\")\n",
        "print(f\"Arquitectura: {platform.architecture()}\")\n",
        "print(f\"Procesador: {platform.processor()}\")"
      ],
      "metadata": {
        "colab": {
          "base_uri": "https://localhost:8080/"
        },
        "id": "wZehEvpISvRX",
        "outputId": "59349b89-2577-48be-d5a4-51b4b223e34a"
      },
      "execution_count": 7,
      "outputs": [
        {
          "output_type": "stream",
          "name": "stdout",
          "text": [
            "\n",
            "Parámetros del entorno de ejecución:\n",
            "Sistema Operativo: Linux\n",
            "Nombre del nodo: 4a9465679667\n",
            "Arquitectura: ('64bit', 'ELF')\n",
            "Procesador: x86_64\n"
          ]
        }
      ]
    },
    {
      "cell_type": "code",
      "source": [
        "import sys\n",
        "#Versión de Python\n",
        "print(f\"Versión de Python: {sys.version}\")"
      ],
      "metadata": {
        "colab": {
          "base_uri": "https://localhost:8080/"
        },
        "id": "wWaFBI12RwdX",
        "outputId": "3baf506b-9cf8-47d8-b426-4c7b562efe68"
      },
      "execution_count": 8,
      "outputs": [
        {
          "output_type": "stream",
          "name": "stdout",
          "text": [
            "Versión de Python: 3.12.11 (main, Jun  4 2025, 08:56:18) [GCC 11.4.0]\n"
          ]
        }
      ]
    }
  ]
}