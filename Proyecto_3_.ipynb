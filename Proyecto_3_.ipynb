{
  "nbformat": 4,
  "nbformat_minor": 0,
  "metadata": {
    "colab": {
      "provenance": [],
      "authorship_tag": "ABX9TyMwBvx4SZ9LxekRlVOXn8aD",
      "include_colab_link": true
    },
    "kernelspec": {
      "name": "python3",
      "display_name": "Python 3"
    },
    "language_info": {
      "name": "python"
    }
  },
  "cells": [
    {
      "cell_type": "markdown",
      "metadata": {
        "id": "view-in-github",
        "colab_type": "text"
      },
      "source": [
        "<a href=\"https://colab.research.google.com/github/Ilianaleon0626/Curso_Python_Cucsh/blob/main/Proyecto_3_.ipynb\" target=\"_parent\"><img src=\"https://colab.research.google.com/assets/colab-badge.svg\" alt=\"Open In Colab\"/></a>"
      ]
    },
    {
      "cell_type": "code",
      "source": [
        "from google.colab import drive\n",
        "drive.mount('/content/drive')\n"
      ],
      "metadata": {
        "colab": {
          "base_uri": "https://localhost:8080/"
        },
        "id": "TdfRRCdu4wQU",
        "outputId": "ff14fc41-64bc-40eb-e032-e9068e45829b"
      },
      "execution_count": 7,
      "outputs": [
        {
          "output_type": "stream",
          "name": "stdout",
          "text": [
            "Mounted at /content/drive\n"
          ]
        }
      ]
    },
    {
      "cell_type": "code",
      "source": [
        "# Diccionario de exámenes por facultad\n",
        "examenes_por_facultad = {\n",
        "    \"Física\": [\"EPH\", \"EMA\", \"ESP\"],\n",
        "    \"Matemáticas\": [\"EMA\", \"ECS\", \"ESP\"],\n",
        "    \"Ingeniería\": [\"EMA\", \"ECS\", \"EPH\", \"ESP\"],\n",
        "    \"Química\": [\"ECH\", \"EPH\", \"ESP\"],\n",
        "    \"Biotecnología\": [\"EMA\", \"ECS\", \"ECH\", \"ESP\"]\n",
        "}\n",
        "\n",
        "# Función para leer aspirantes desde archivo\n",
        "def leer_aspirantes(ruta_archivo):\n",
        "    aspirantes = []\n",
        "    with open(ruta_archivo, 'r') as f:\n",
        "        lineas = [line.strip() for line in f if line.strip()]\n",
        "\n",
        "    i = 0\n",
        "    while i < len(lineas):\n",
        "        if lineas[i].startswith(\"Nombre\"):\n",
        "            nombre = lineas[i].split(\",\")[1]\n",
        "            notas = {}\n",
        "            for j in range(1, 6):\n",
        "                materia, nota = lineas[i + j].split(\",\")\n",
        "                notas[materia] = int(nota)\n",
        "            opciones = {\n",
        "                \"OP1\": lineas[i + 6].split(\",\")[1],\n",
        "                \"OP2\": lineas[i + 7].split(\",\")[1],\n",
        "                \"OP3\": lineas[i + 8].split(\",\")[1]\n",
        "            }\n",
        "            aspirantes.append({\"nombre\": nombre, \"notas\": notas, \"opciones\": opciones})\n",
        "            i += 9\n",
        "        else:\n",
        "            i += 1\n",
        "    return aspirantes\n",
        "\n",
        "# Función para calcular puntaje\n",
        "def calcular_puntaje(aspirante, facultad):\n",
        "    materias = examenes_por_facultad[facultad]\n",
        "    notas = [aspirante[\"notas\"][m] for m in materias]\n",
        "    return sum(notas) / len(notas)\n",
        "\n",
        "# Función principal de selección\n",
        "def seleccionar_aspirantes(aspirantes, facultad, cupo):\n",
        "    seleccionados = []\n",
        "    candidatos = [a for a in aspirantes if a[\"opciones\"][\"OP1\"] == facultad]\n",
        "    for a in candidatos:\n",
        "        puntaje = calcular_puntaje(a, facultad)\n",
        "        seleccionados.append({\n",
        "            \"nombre\": a[\"nombre\"],\n",
        "            \"facultad\": facultad,\n",
        "            \"puntaje\": puntaje,\n",
        "            \"opcion\": \"OP1\"\n",
        "        })\n",
        "    seleccionados.sort(key=lambda x: x[\"puntaje\"], reverse=True)\n",
        "    return seleccionados[:cupo]\n",
        "\n",
        "# Ejecución\n",
        "ruta = \"/content/drive/MyDrive/Colab Data/aspirantes.txt\"  # Ajusta según tu archivo\n",
        "aspirantes = leer_aspirantes(ruta)\n",
        "\n",
        "facultad = input(\"Ingrese la facultad a evaluar: \")\n",
        "cupo = int(input(\"Ingrese el cupo máximo de admitidos: \"))\n",
        "\n",
        "admitidos = seleccionar_aspirantes(aspirantes, facultad, cupo)\n",
        "\n",
        "# Mostrar resultados\n",
        "print(\"\\nAspirantes admitidos:\")\n",
        "print(\"Nombre\\tFacultad\\tPuntaje\\tOpción\")\n",
        "for a in admitidos:\n",
        "    print(f\"{a['nombre']}\\t{a['facultad']}\\t{a['puntaje']:.2f}\\t{a['opcion']}\")\n"
      ],
      "metadata": {
        "colab": {
          "base_uri": "https://localhost:8080/"
        },
        "id": "Dp0sn6gw470w",
        "outputId": "f8ee407f-1a51-4368-b4fc-0e37d1b28a49"
      },
      "execution_count": 8,
      "outputs": [
        {
          "output_type": "stream",
          "name": "stdout",
          "text": [
            "Ingrese la facultad a evaluar: Physics\n",
            "Ingrese el cupo máximo de admitidos: 48\n",
            "\n",
            "Aspirantes admitidos:\n",
            "Nombre\tFacultad\tPuntaje\tOpción\n"
          ]
        }
      ]
    }
  ]
}