{
  "nbformat": 4,
  "nbformat_minor": 0,
  "metadata": {
    "colab": {
      "provenance": [],
      "authorship_tag": "ABX9TyNPV10sP3B9jb0esYjHzDUU",
      "include_colab_link": true
    },
    "kernelspec": {
      "name": "python3",
      "display_name": "Python 3"
    },
    "language_info": {
      "name": "python"
    }
  },
  "cells": [
    {
      "cell_type": "markdown",
      "metadata": {
        "id": "view-in-github",
        "colab_type": "text"
      },
      "source": [
        "<a href=\"https://colab.research.google.com/github/Ilianaleon0626/Curso_Python_Cucsh/blob/main/Actividad_2.ipynb\" target=\"_parent\"><img src=\"https://colab.research.google.com/assets/colab-badge.svg\" alt=\"Open In Colab\"/></a>"
      ]
    },
    {
      "cell_type": "code",
      "execution_count": 17,
      "metadata": {
        "id": "0ELgEkkSp9RR"
      },
      "outputs": [],
      "source": []
    },
    {
      "cell_type": "markdown",
      "source": [
        "# Actividad 2: Acceso a Google Drive desde Colab\n",
        "**Fecha:** 27 de octubre de 2025  \n",
        "**Curso:** Análisis y visualización de datos con Python en la nube  \n",
        "**Nombre del alumno:** Iliana Guadalupe León González\n",
        "**Campus de adscripción:** CUCEA\n",
        "\n"
      ],
      "metadata": {
        "id": "lJqiMTx2qo31"
      }
    },
    {
      "cell_type": "code",
      "source": [
        "from datetime import datetime\n",
        "\n",
        "print(\"Fecha y hora del servidor:\", datetime.now())\n"
      ],
      "metadata": {
        "colab": {
          "base_uri": "https://localhost:8080/"
        },
        "id": "P29bozabrAgX",
        "outputId": "e46e5b99-aab6-49e5-daeb-1544ad449a79"
      },
      "execution_count": 18,
      "outputs": [
        {
          "output_type": "stream",
          "name": "stdout",
          "text": [
            "Fecha y hora del servidor: 2025-10-28 03:12:16.704499\n"
          ]
        }
      ]
    },
    {
      "cell_type": "code",
      "source": [
        "from google.colab import drive\n",
        "\n",
        "# Montar Google Drive\n",
        "drive.mount('/content/drive')\n"
      ],
      "metadata": {
        "colab": {
          "base_uri": "https://localhost:8080/"
        },
        "id": "orKijEFFucaT",
        "outputId": "02cf1b0b-eacb-4c67-83f4-ddbcf71789ae"
      },
      "execution_count": 19,
      "outputs": [
        {
          "output_type": "stream",
          "name": "stdout",
          "text": [
            "Drive already mounted at /content/drive; to attempt to forcibly remount, call drive.mount(\"/content/drive\", force_remount=True).\n"
          ]
        }
      ]
    },
    {
      "cell_type": "code",
      "source": [
        "# Ruta al archivo de texto\n",
        "ruta_archivo = '/content/drive/MyDrive/Colab Data/texto_Bienvenidos.txt'\n"
      ],
      "metadata": {
        "id": "XRriZqUwy9B9"
      },
      "execution_count": 20,
      "outputs": []
    },
    {
      "cell_type": "code",
      "source": [
        "import os\n",
        "\n",
        "# Leer y mostrar contenido del archivo\n",
        "if os.path.exists(ruta_archivo):\n",
        "    with open(ruta_archivo, 'r') as archivo:\n",
        "        contenido = archivo.read()\n",
        "        print(\"Contenido del archivo:\")\n",
        "        print(contenido)\n",
        "else:\n",
        "    print(f\"Error: El archivo no se encontró en la ruta especificada: {ruta_archivo}\")"
      ],
      "metadata": {
        "colab": {
          "base_uri": "https://localhost:8080/"
        },
        "id": "UTwcoLU5zCvR",
        "outputId": "5a5a8655-6b06-4ccf-8ac6-bdc61b9e17d4"
      },
      "execution_count": 22,
      "outputs": [
        {
          "output_type": "stream",
          "name": "stdout",
          "text": [
            "Error: El archivo no se encontró en la ruta especificada: /content/drive/MyDrive/Colab Data/texto_Bienvenidos.txt\n"
          ]
        }
      ]
    }
  ]
}